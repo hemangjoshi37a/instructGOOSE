{
 "cells": [
  {
   "attachments": {},
   "cell_type": "markdown",
   "metadata": {},
   "source": [
    "# Utility functions"
   ]
  },
  {
   "cell_type": "code",
   "execution_count": null,
   "metadata": {},
   "outputs": [],
   "source": [
    "#| default_exp utils"
   ]
  },
  {
   "cell_type": "code",
   "execution_count": null,
   "metadata": {},
   "outputs": [],
   "source": [
    "#| hide\n",
    "from nbdev.showdoc import *\n",
    "import nbdev; nbdev.nbdev_export()"
   ]
  },
  {
   "cell_type": "code",
   "execution_count": null,
   "metadata": {},
   "outputs": [],
   "source": [
    "#| export\n",
    "import yaml\n",
    "from copy import deepcopy\n",
    "from dataclasses import dataclass\n",
    "from typing import Union, List\n",
    "\n",
    "import torch"
   ]
  },
  {
   "cell_type": "code",
   "execution_count": null,
   "metadata": {},
   "outputs": [],
   "source": [
    "#| export\n",
    "def load_yaml(config_path):\n",
    "    with open(config_path, \"r\") as f:\n",
    "        return yaml.safe_load(f)"
   ]
  },
  {
   "cell_type": "code",
   "execution_count": null,
   "metadata": {},
   "outputs": [],
   "source": [
    "#| export\n",
    "@dataclass\n",
    "class RLHFConfig:\n",
    "    # PPO config\n",
    "    epsilon: float = 0.1\n",
    "    # entropy coefficient\n",
    "    ent_coef: float = 0.01\n",
    "    vf_coef: float = 0.1"
   ]
  },
  {
   "cell_type": "code",
   "execution_count": null,
   "metadata": {},
   "outputs": [],
   "source": [
    "#| export\n",
    "class ReplayBuffer:\n",
    "    def __init__(self) -> None:\n",
    "        self.states = []\n",
    "        self.actions: List[int] = []\n",
    "        self.log_probs: List[Union[int, float]] = []\n",
    "        self.values: List[int, float] = []\n",
    "        self.rewards: List[int, float] = []\n",
    "        self.dones: List[bool] = []\n",
    "    \n",
    "    def append(\n",
    "        self, state, action: int, log_prob: Union[int, float],\n",
    "        value: Union[int, float], reward: Union[int, float], done: bool\n",
    "    ):\n",
    "        self.states.append(state)\n",
    "        self.actions.append(action)\n",
    "        self.log_probs.append(log_prob)\n",
    "        self.values.append(value)\n",
    "        self.rewards.append(reward)\n",
    "        self.dones.append(done)\n",
    "    \n",
    "    def sample(self):\n",
    "        n_samples = len(self.states)\n",
    "        idx = torch.randint(low=0, high=n_samples, size=(1,)).item()\n",
    "        \n",
    "        return self.states[idx], self.actions[idx], self.log_probs[idx],\\\n",
    "               self.values[idx], self.rewards[idx], self.dones[idx]"
   ]
  },
  {
   "attachments": {},
   "cell_type": "markdown",
   "metadata": {},
   "source": [
    "### Reference Model"
   ]
  },
  {
   "cell_type": "code",
   "execution_count": null,
   "metadata": {},
   "outputs": [],
   "source": [
    "#| export\n",
    "def create_reference_model(model):\n",
    "    ref_model = deepcopy(model).eval()\n",
    "    return ref_model"
   ]
  },
  {
   "cell_type": "code",
   "execution_count": null,
   "metadata": {},
   "outputs": [
    {
     "data": {
      "text/plain": [
       "tensor([5])"
      ]
     },
     "execution_count": null,
     "metadata": {},
     "output_type": "execute_result"
    }
   ],
   "source": [
    "import torch\n",
    "torch.randint(low=0, high=10, size=(1,))"
   ]
  }
 ],
 "metadata": {
  "kernelspec": {
   "display_name": "env",
   "language": "python",
   "name": "python3"
  }
 },
 "nbformat": 4,
 "nbformat_minor": 2
}
